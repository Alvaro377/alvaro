{
 "cells": [
  {
   "cell_type": "markdown",
   "metadata": {},
   "source": [
    "## Python - week01 - lecture01 - introdução"
   ]
  },
  {
   "cell_type": "markdown",
   "metadata": {},
   "source": [
    "### É muito fácil declarar variáveis em python\n",
    "### Mas, há palavras reservadas\n",
    "\n",
    "#### and , assert , break , class , continue , def , del , elif , else , except , exec , finally , for , from , global , if , import , in , is , lambda , not , or , pass , print\n",
    "\n",
    "### e operadores\n",
    "\n",
    "#### -, +, !=, <, %, <<, &, <=, *, <>, **, ==, /, >, ^, >=, |, >>, ~"
   ]
  },
  {
   "cell_type": "code",
   "execution_count": 1,
   "metadata": {},
   "outputs": [
    {
     "name": "stdout",
     "output_type": "stream",
     "text": [
      "2 <class 'int'>\n"
     ]
    }
   ],
   "source": [
    "a = 2\n",
    "print(a, type(a))"
   ]
  },
  {
   "cell_type": "code",
   "execution_count": 2,
   "metadata": {},
   "outputs": [
    {
     "data": {
      "text/plain": [
       "(2, int)"
      ]
     },
     "execution_count": 2,
     "metadata": {},
     "output_type": "execute_result"
    }
   ],
   "source": [
    "# no jupyter notebook você pode usar ...\n",
    "a, type(a)"
   ]
  },
  {
   "cell_type": "code",
   "execution_count": 3,
   "metadata": {},
   "outputs": [
    {
     "data": {
      "text/plain": [
       "(20, int, 40)"
      ]
     },
     "execution_count": 3,
     "metadata": {},
     "output_type": "execute_result"
    }
   ],
   "source": [
    "b = 20\n",
    "b, type(b), a*b"
   ]
  },
  {
   "cell_type": "markdown",
   "metadata": {},
   "source": [
    "### Posso fazer qualquer tipo de cálculo em Python"
   ]
  },
  {
   "cell_type": "code",
   "execution_count": 4,
   "metadata": {},
   "outputs": [
    {
     "data": {
      "text/plain": [
       "'y = 3x + 9, se x=2, então y=15'"
      ]
     },
     "execution_count": 4,
     "metadata": {},
     "output_type": "execute_result"
    }
   ],
   "source": [
    "a = 3\n",
    "b = 9\n",
    "x = 2\n",
    "\n",
    "y = a*x + b\n",
    "\"y = %dx + %d, se x=%d, então y=%d\"%(a,b,x,y)"
   ]
  },
  {
   "cell_type": "markdown",
   "metadata": {},
   "source": [
    "### Loops ou laços são importantes em qualquer linguagem\n",
    "### O loop mais usado é o 'for', mas há outros com o 'while'"
   ]
  },
  {
   "cell_type": "code",
   "execution_count": 5,
   "metadata": {},
   "outputs": [
    {
     "data": {
      "text/plain": [
       "([], 0, list)"
      ]
     },
     "execution_count": 5,
     "metadata": {},
     "output_type": "execute_result"
    }
   ],
   "source": [
    "# declarando uma lista vazia\n",
    "xs = []\n",
    "xs, len(xs), type(xs)"
   ]
  },
  {
   "cell_type": "code",
   "execution_count": 6,
   "metadata": {},
   "outputs": [],
   "source": [
    "# fazendo um laço e armazenando xs e ys (sequencias de xs e ys)\n",
    "xs=[]; ys = []  # escrevendo duas linhas em uma só linha: uso o ponto e vírgula\n",
    "\n",
    "for x in range(30):\n",
    "    y = a*x + b\n",
    "    xs.append(x)\n",
    "    ys.append(y)  # armazenando xs, e ys\n",
    "\n",
    "# um laço é silencioso, só se colocar um print() lá dentro que ele ecoa o que está fazendo"
   ]
  },
  {
   "cell_type": "code",
   "execution_count": 7,
   "metadata": {},
   "outputs": [
    {
     "data": {
      "text/plain": [
       "[0, 1, 2, 3, 4]"
      ]
     },
     "execution_count": 7,
     "metadata": {},
     "output_type": "execute_result"
    }
   ],
   "source": [
    "xs[:5]   # mostre os primeiros 5 resultados, de 30; repare que TUDO COMEÇA COMZERO"
   ]
  },
  {
   "cell_type": "code",
   "execution_count": 8,
   "metadata": {},
   "outputs": [
    {
     "data": {
      "text/plain": [
       "[9, 12, 15, 18, 21]"
      ]
     },
     "execution_count": 8,
     "metadata": {},
     "output_type": "execute_result"
    }
   ],
   "source": [
    "ys[:5]"
   ]
  },
  {
   "cell_type": "markdown",
   "metadata": {},
   "source": [
    "### Vamos ver este gráfico com matplotlib?"
   ]
  },
  {
   "cell_type": "code",
   "execution_count": 9,
   "metadata": {},
   "outputs": [],
   "source": [
    "## declarando matplotlib - uma bibloteca / pacote - já instalado pelo Anaconda\n",
    "import matplotlib.pyplot as plt\n",
    "# esta linha só exsite no Jupyter Notebook\n",
    "%matplotlib inline  "
   ]
  },
  {
   "cell_type": "code",
   "execution_count": 10,
   "metadata": {},
   "outputs": [
    {
     "data": {
      "text/plain": [
       "[<matplotlib.lines.Line2D at 0x7ff0033d6290>]"
      ]
     },
     "execution_count": 10,
     "metadata": {},
     "output_type": "execute_result"
    },
    {
     "data": {
      "image/png": "[encoded data removed]",
      "text/plain": [
       "<Figure size 432x288 with 1 Axes>"
      ]
     },
     "metadata": {
      "needs_background": "light"
     },
     "output_type": "display_data"
    }
   ],
   "source": [
    "plt.plot(xs,ys)"
   ]
  },
  {
   "cell_type": "markdown",
   "metadata": {},
   "source": [
    "### Melhorando o gráfico e retirando o eco do matplotlib"
   ]
  },
  {
   "cell_type": "code",
   "execution_count": 11,
   "metadata": {},
   "outputs": [
    {
     "data": {
      "image/png": "[encoded data removed]",
      "text/plain": [
       "<Figure size 432x288 with 1 Axes>"
      ]
     },
     "metadata": {
      "needs_background": "light"
     },
     "output_type": "display_data"
    }
   ],
   "source": [
    "plt.plot(xs,ys)\n",
    "plt.xlabel('eixo x')\n",
    "plt.ylabel('eixo y')\n",
    "plt.title('Gráfico linear');  # este ponto e vírgula final retira o eco do matplotlib"
   ]
  },
  {
   "cell_type": "markdown",
   "metadata": {},
   "source": [
    "### Repare o que já aprendemos até aqui\n",
    "\n",
    "  - definir uma ou mais variáveis\n",
    "  - fazer um loop e usar o range() para fazer uma sequência de 0 a 29 (range(30))\n",
    "  - armazenar os resultados em listas (xs e ys)\n",
    "  - plotar um gráfico\n",
    "  \n",
    "### Mas, o que é range() ?"
   ]
  },
  {
   "cell_type": "markdown",
   "metadata": {},
   "source": [
    "### Range é um iterador\n",
    "\n",
    "Um iterador é um gerador de números (neste caso) que podem ser iterados, rodados para gerar um loop"
   ]
  },
  {
   "cell_type": "code",
   "execution_count": 12,
   "metadata": {},
   "outputs": [
    {
     "data": {
      "text/plain": [
       "range(0, 5)"
      ]
     },
     "execution_count": 12,
     "metadata": {},
     "output_type": "execute_result"
    }
   ],
   "source": [
    "range(5)"
   ]
  },
  {
   "cell_type": "markdown",
   "metadata": {},
   "source": [
    "### o funcional range é muito rápido, mas você pode ver a lista que ele criou"
   ]
  },
  {
   "cell_type": "code",
   "execution_count": 13,
   "metadata": {},
   "outputs": [
    {
     "data": {
      "text/plain": [
       "[0, 1, 2, 3, 4]"
      ]
     },
     "execution_count": 13,
     "metadata": {},
     "output_type": "execute_result"
    }
   ],
   "source": [
    "list(range(5))"
   ]
  },
  {
   "cell_type": "markdown",
   "metadata": {},
   "source": [
    "### Exercício\n",
    "\n",
    "### Crie uma lista de 0 a 360<sup>o</sup>, e aplique a função seno = math.sine()"
   ]
  },
  {
   "cell_type": "code",
   "execution_count": 14,
   "metadata": {},
   "outputs": [
    {
     "data": {
      "text/plain": [
       "3.141592653589793"
      ]
     },
     "execution_count": 14,
     "metadata": {},
     "output_type": "execute_result"
    }
   ],
   "source": [
    "import math\n",
    "\n",
    "# dicas\n",
    "math.pi"
   ]
  },
  {
   "cell_type": "markdown",
   "metadata": {},
   "source": [
    "### Dica:\n",
    "### primeiro obstáculo tenho que passar graus para radianos !!!\n",
    "### 0<sup>o</sup> = 0 radianos\n",
    "### xgraus  = y (radianos)\n",
    "### 360<sup>o</sup>  = 2$\\pi$ radianos\n",
    "\n",
    "portanto,\n",
    "\n",
    "y = xgraus * 2*PI / 360"
   ]
  },
  {
   "cell_type": "code",
   "execution_count": 15,
   "metadata": {},
   "outputs": [
    {
     "data": {
      "text/plain": [
       "0.8660254037844386"
      ]
     },
     "execution_count": 15,
     "metadata": {},
     "output_type": "execute_result"
    }
   ],
   "source": [
    "# dica para transformar graus em radianos\n",
    "grau = 60\n",
    "\n",
    "math.sin( 2*math.pi * 60 / 360)  # radianos!!!"
   ]
  },
  {
   "cell_type": "code",
   "execution_count": 16,
   "metadata": {},
   "outputs": [
    {
     "data": {
      "text/plain": [
       "1.5707963267948966"
      ]
     },
     "execution_count": 16,
     "metadata": {},
     "output_type": "execute_result"
    }
   ],
   "source": [
    "# fórmula a ser usando, exemplo: passando 90 graus para radianos\n",
    "grau = 90\n",
    "rad = 2*math.pi * grau / 360\n",
    "rad"
   ]
  },
  {
   "cell_type": "code",
   "execution_count": null,
   "metadata": {},
   "outputs": [],
   "source": []
  },
  {
   "cell_type": "code",
   "execution_count": null,
   "metadata": {},
   "outputs": [],
   "source": []
  },
  {
   "cell_type": "code",
   "execution_count": null,
   "metadata": {},
   "outputs": [],
   "source": []
  },
  {
   "cell_type": "code",
   "execution_count": null,
   "metadata": {},
   "outputs": [],
   "source": []
  },
  {
   "cell_type": "code",
   "execution_count": null,
   "metadata": {},
   "outputs": [],
   "source": []
  },
  {
   "cell_type": "code",
   "execution_count": null,
   "metadata": {},
   "outputs": [],
   "source": []
  },
  {
   "cell_type": "markdown",
   "metadata": {},
   "source": [
    "### Resolvendo"
   ]
  },
  {
   "cell_type": "code",
   "execution_count": 17,
   "metadata": {},
   "outputs": [
    {
     "data": {
      "image/png": "[encoded data removed]",
      "text/plain": [
       "<Figure size 432x288 with 1 Axes>"
      ]
     },
     "metadata": {
      "needs_background": "light"
     },
     "output_type": "display_data"
    }
   ],
   "source": [
    "ys = []\n",
    "graus = list(range(361))\n",
    "\n",
    "for grau in graus:\n",
    "    y = math.sin(2*math.pi * grau / 360)\n",
    "    ys.append(y)\n",
    "    \n",
    "plt.plot(graus,ys)\n",
    "plt.xlabel('radianos')\n",
    "plt.ylabel('seno(rad)')\n",
    "plt.title('Função seno de 0 a 2 $\\pi$ radianos');  # este ponto e vírgula final retira o eco do matplotlib"
   ]
  },
  {
   "cell_type": "code",
   "execution_count": null,
   "metadata": {},
   "outputs": [],
   "source": []
  },
  {
   "cell_type": "markdown",
   "metadata": {},
   "source": [
    "### Existem bibliotecas especializadas em cálculos numéricos\n",
    "\n",
    "**elas usam a linguagem C para tornar o Python mais rápido**\n",
    "\n",
    "  - numpy\n",
    "    - https://numpy.org/doc/stable/user/quickstart.html\n",
    "    - https://www.w3schools.com/python/numpy_intro.asp\n",
    "    - https://www.youtube.com/watch?v=GB9ByFAIAH4\n",
    "    \n",
    "  - scipy\n",
    "    - https://www.scipy.org/getting-started.html\n",
    "    - https://www.tutorialspoint.com/scipy/scipy_quick_guide.htm"
   ]
  },
  {
   "cell_type": "markdown",
   "metadata": {},
   "source": []
  },
  {
   "cell_type": "markdown",
   "metadata": {},
   "source": [
    "### Vamos simular um experimento no seu laboratório\n",
    "\n",
    "#### Vamos supor que ao aumentar a concentração de um substrato você engerga a diminuição da translucência no líquido \n",
    "#### Você pergunta se a relação é linear? Se há correlação\n",
    "\n",
    "#### Como simular este experimento no computador???\n",
    "\n",
    "**usando um gerador de números rândomicos**\n",
    "\n",
    "  - todas as linguagem têm geradores de números randômicos (GNR)\n",
    "  - eles são imperfeitos, são falsos-GNR\n",
    "  - então, o que é randomicidade? - vamos discutir\n",
    "  - logo, posso controlar o GNR ?"
   ]
  },
  {
   "cell_type": "code",
   "execution_count": 18,
   "metadata": {},
   "outputs": [],
   "source": [
    "# importe numpy e dê um apelido (alias) np (este é o padrão adotado)\n",
    "import numpy as np"
   ]
  },
  {
   "cell_type": "markdown",
   "metadata": {},
   "source": [
    "#### Gerador de 10 números randômicos (size=10) entre [0,1] = randint(2, size=10)"
   ]
  },
  {
   "cell_type": "code",
   "execution_count": 19,
   "metadata": {},
   "outputs": [
    {
     "data": {
      "text/plain": [
       "array([1, 1, 0, 0, 1, 1, 0, 0, 0, 0])"
      ]
     },
     "execution_count": 19,
     "metadata": {},
     "output_type": "execute_result"
    }
   ],
   "source": [
    "np.random.randint(2, size=10)"
   ]
  },
  {
   "cell_type": "markdown",
   "metadata": {},
   "source": [
    "#### Gerador de 15 números randômicos (size=15) entre [0,5] = randint(6, size=10)"
   ]
  },
  {
   "cell_type": "code",
   "execution_count": 20,
   "metadata": {},
   "outputs": [
    {
     "data": {
      "text/plain": [
       "array([3, 2, 1, 4, 4, 1, 5, 3, 1, 2, 5, 3, 4, 2, 4])"
      ]
     },
     "execution_count": 20,
     "metadata": {},
     "output_type": "execute_result"
    }
   ],
   "source": [
    "np.random.randint(6, size=15)"
   ]
  },
  {
   "cell_type": "markdown",
   "metadata": {},
   "source": [
    "### Repita várias vezes?"
   ]
  },
  {
   "cell_type": "code",
   "execution_count": 21,
   "metadata": {},
   "outputs": [
    {
     "data": {
      "text/plain": [
       "array([4, 0, 0, 4, 2, 3, 5, 2, 3, 0, 2, 1, 5, 1, 3])"
      ]
     },
     "execution_count": 21,
     "metadata": {},
     "output_type": "execute_result"
    }
   ],
   "source": [
    "np.random.randint(6, size=15)"
   ]
  },
  {
   "cell_type": "code",
   "execution_count": 22,
   "metadata": {},
   "outputs": [
    {
     "data": {
      "text/plain": [
       "array([1, 5, 2, 3, 2, 2, 5, 0, 2, 5, 0, 3, 3, 1, 5])"
      ]
     },
     "execution_count": 22,
     "metadata": {},
     "output_type": "execute_result"
    }
   ],
   "source": [
    "np.random.randint(6, size=15)"
   ]
  },
  {
   "cell_type": "code",
   "execution_count": 23,
   "metadata": {},
   "outputs": [
    {
     "data": {
      "text/plain": [
       "array([5, 0, 3, 1, 3, 4, 0, 0, 0, 1, 4, 5, 4, 4, 4])"
      ]
     },
     "execution_count": 23,
     "metadata": {},
     "output_type": "execute_result"
    }
   ],
   "source": [
    "np.random.randint(6, size=15)"
   ]
  },
  {
   "cell_type": "markdown",
   "metadata": {},
   "source": [
    "### Parece ser rânomico mesmo !!! Mas, não é "
   ]
  },
  {
   "cell_type": "code",
   "execution_count": 24,
   "metadata": {},
   "outputs": [
    {
     "data": {
      "text/plain": [
       "array([0, 5, 0, 3, 2, 3, 0, 2, 1, 3, 5, 2, 4, 4, 4])"
      ]
     },
     "execution_count": 24,
     "metadata": {},
     "output_type": "execute_result"
    }
   ],
   "source": [
    "np.random.seed(2)\n",
    "np.random.randint(6, size=15)"
   ]
  },
  {
   "cell_type": "markdown",
   "metadata": {},
   "source": [
    "### E aí? Repetiu ou foi randômico?"
   ]
  },
  {
   "cell_type": "code",
   "execution_count": 25,
   "metadata": {},
   "outputs": [
    {
     "data": {
      "text/plain": [
       "array([0, 5, 0, 3, 2, 3, 0, 2, 1, 3, 5, 2, 4, 4, 4])"
      ]
     },
     "execution_count": 25,
     "metadata": {},
     "output_type": "execute_result"
    }
   ],
   "source": [
    "np.random.seed(2)\n",
    "np.random.randint(6, size=15)"
   ]
  },
  {
   "cell_type": "code",
   "execution_count": null,
   "metadata": {},
   "outputs": [],
   "source": []
  },
  {
   "cell_type": "markdown",
   "metadata": {},
   "source": [
    "### Agora, vamos simular uma distribuição normal\n",
    "\n",
    "  - media = 2.3\n",
    "  - desvio padrão = 1.1\n",
    "  - temos 15 amostras"
   ]
  },
  {
   "cell_type": "code",
   "execution_count": 26,
   "metadata": {},
   "outputs": [],
   "source": [
    "# mu = mean;  sample standard deviation = ssd; sample number = n\n",
    "mu = 2.3;  ssd = 1.1;  n = 15"
   ]
  },
  {
   "cell_type": "code",
   "execution_count": 27,
   "metadata": {},
   "outputs": [
    {
     "data": {
      "text/plain": [
       "array([1.07819947, 2.39743807, 0.8103464 , 2.36409776, 2.82809333,\n",
       "       2.72568956, 3.63151499, 2.2778575 , 2.31143334, 1.38387826,\n",
       "       2.17238836, 1.52820957, 0.77166724, 2.83965512, 2.05861998])"
      ]
     },
     "execution_count": 27,
     "metadata": {},
     "output_type": "execute_result"
    }
   ],
   "source": [
    "np.random.normal(mu, ssd, n)"
   ]
  },
  {
   "cell_type": "markdown",
   "metadata": {},
   "source": [
    "### Voltando ao nosso experimento de translucência x substrato"
   ]
  },
  {
   "cell_type": "code",
   "execution_count": 28,
   "metadata": {},
   "outputs": [
    {
     "data": {
      "text/plain": [
       "array([ 0,  1,  2,  3,  4,  5,  6,  7,  8,  9, 10, 11, 12, 13, 14])"
      ]
     },
     "execution_count": 28,
     "metadata": {},
     "output_type": "execute_result"
    }
   ],
   "source": [
    "# como gerar sequências em numpy: use np.arange(inicio, fim, passo=1)\n",
    "substratos = np.arange(0, 15)\n",
    "substratos"
   ]
  },
  {
   "cell_type": "markdown",
   "metadata": {},
   "source": [
    "### Vamos colocar algum ruído no sustrato???\n",
    "### Como faço isto?\n",
    "### só somar 'ruído branco' = random.normal(media=0, ssd=a escolher ~ pequeno)"
   ]
  },
  {
   "cell_type": "code",
   "execution_count": 29,
   "metadata": {},
   "outputs": [
    {
     "data": {
      "text/plain": [
       "array([-0.15418722,  0.77214261,  0.93773616,  3.27489912,  3.41604987,\n",
       "        5.54003178,  4.25409285,  7.63502424,  7.75539255,  8.41200522,\n",
       "       10.13930069, 11.49969263, 12.00001073, 13.40315404, 13.04899955])"
      ]
     },
     "execution_count": 29,
     "metadata": {},
     "output_type": "execute_result"
    }
   ],
   "source": [
    "substratos = substratos + np.random.normal(0, .5, len(substratos))\n",
    "substratos"
   ]
  },
  {
   "cell_type": "markdown",
   "metadata": {},
   "source": [
    "### Ops: não posso ter valores negativos, e agora?"
   ]
  },
  {
   "cell_type": "code",
   "execution_count": 30,
   "metadata": {},
   "outputs": [
    {
     "data": {
      "text/plain": [
       "array([ 0.        ,  0.92632983,  1.09192338,  3.42908634,  3.57023709,\n",
       "        5.694219  ,  4.40828007,  7.78921146,  7.90957977,  8.56619244,\n",
       "       10.29348791, 11.65387985, 12.15419794, 13.55734126, 13.20318677])"
      ]
     },
     "execution_count": 30,
     "metadata": {},
     "output_type": "execute_result"
    }
   ],
   "source": [
    "substratos = substratos - np.min(substratos)\n",
    "substratos"
   ]
  },
  {
   "cell_type": "markdown",
   "metadata": {},
   "source": [
    "### A translucência é aproximadamente 1/20 (em dB)\n",
    "\n",
    "https://en.wikipedia.org/wiki/Transparency_and_translucency"
   ]
  },
  {
   "cell_type": "code",
   "execution_count": 31,
   "metadata": {},
   "outputs": [
    {
     "data": {
      "text/plain": [
       "array([-0.16887176, -0.14712084,  0.07411107,  0.32303841,  0.18440574,\n",
       "        0.34520441,  0.19839145,  0.32060299,  0.36628977,  0.53757669,\n",
       "        0.6551476 ,  0.63667416,  0.55488166,  0.59344099,  0.44094302])"
      ]
     },
     "execution_count": 31,
     "metadata": {},
     "output_type": "execute_result"
    }
   ],
   "source": [
    "transluc = substratos/20 +  np.random.normal(0, .1, len(substratos))\n",
    "transluc"
   ]
  },
  {
   "cell_type": "code",
   "execution_count": 32,
   "metadata": {},
   "outputs": [
    {
     "data": {
      "text/plain": [
       "array([0.        , 0.02175092, 0.24298284, 0.49191017, 0.3532775 ,\n",
       "       0.51407617, 0.36726321, 0.48947475, 0.53516153, 0.70644845,\n",
       "       0.82401936, 0.80554592, 0.72375342, 0.76231275, 0.60981478])"
      ]
     },
     "execution_count": 32,
     "metadata": {},
     "output_type": "execute_result"
    }
   ],
   "source": [
    "# que conta é esta? você entendeu?\n",
    "transluc -= np.min(transluc)\n",
    "transluc"
   ]
  },
  {
   "cell_type": "code",
   "execution_count": 33,
   "metadata": {},
   "outputs": [
    {
     "data": {
      "image/png": "[encoded data removed]",
      "text/plain": [
       "<Figure size 432x288 with 1 Axes>"
      ]
     },
     "metadata": {
      "needs_background": "light"
     },
     "output_type": "display_data"
    }
   ],
   "source": [
    "plt.plot(substratos,transluc)\n",
    "plt.xlabel('substrato (mM)')\n",
    "plt.ylabel('translucência (dB)')\n",
    "plt.title('Experimento: translucência x substrato');  # este ponto e vírgula final retira o eco do matplotlib"
   ]
  },
  {
   "cell_type": "code",
   "execution_count": 34,
   "metadata": {},
   "outputs": [
    {
     "data": {
      "image/png": "[encoded data removed]",
      "text/plain": [
       "<Figure size 432x288 with 1 Axes>"
      ]
     },
     "metadata": {
      "needs_background": "light"
     },
     "output_type": "display_data"
    }
   ],
   "source": [
    "plt.scatter(substratos,transluc)\n",
    "plt.xlabel('substrato (mM)')\n",
    "plt.ylabel('translucência (dB)')\n",
    "plt.title('Experimento: translucência x substrato');  # este ponto e vírgula final retira o eco do matplotlib"
   ]
  },
  {
   "cell_type": "markdown",
   "metadata": {},
   "source": [
    "### Há correlação ?"
   ]
  },
  {
   "cell_type": "code",
   "execution_count": 35,
   "metadata": {},
   "outputs": [
    {
     "data": {
      "text/plain": [
       "(0.8979009172896439, 5.547322945606383e-06)"
      ]
     },
     "execution_count": 35,
     "metadata": {},
     "output_type": "execute_result"
    }
   ],
   "source": [
    "from scipy.stats import stats   \n",
    "### o primeiro valor é a estatística, o segundo valor é o p-value\n",
    "stat, pval = stats.pearsonr(substratos, transluc)\n",
    "stat, pval"
   ]
  },
  {
   "cell_type": "markdown",
   "metadata": {},
   "source": [
    "### Regressão linear (não é nosso foco, neste curso)"
   ]
  },
  {
   "cell_type": "code",
   "execution_count": 36,
   "metadata": {},
   "outputs": [],
   "source": [
    "slope, intercept, r_value, p_value, std_err = stats.linregress(substratos, transluc)"
   ]
  },
  {
   "cell_type": "code",
   "execution_count": 37,
   "metadata": {},
   "outputs": [
    {
     "data": {
      "text/plain": [
       "(0.050877709429413005,\n",
       " 0.14292902810317615,\n",
       " 0.8979009172896439,\n",
       " 5.5473229456063874e-06,\n",
       " 0.006917913816492985)"
      ]
     },
     "execution_count": 37,
     "metadata": {},
     "output_type": "execute_result"
    }
   ],
   "source": [
    "slope, intercept, r_value, p_value, std_err"
   ]
  },
  {
   "cell_type": "markdown",
   "metadata": {},
   "source": [
    "### Reta: y = a * x + b\n",
    "### y = slope * x + intercept\n",
    "\n",
    "se eu substituir nesta reta os valores de slope (inclinação) e intercept (coef. linear)  \n",
    "terei o y predito\n",
    "\n",
    "lembre-se que a diferença entre cada y e o y predito = erro\n",
    "\n",
    "erro[i] = y[i] - \\<y>[i]"
   ]
  },
  {
   "cell_type": "code",
   "execution_count": 38,
   "metadata": {},
   "outputs": [],
   "source": [
    "a = slope\n",
    "b = intercept\n",
    "\n",
    "ys = []\n",
    "for xsubst in substratos:\n",
    "    ypredict = a * xsubst + b\n",
    "    ys.append(ypredict)"
   ]
  },
  {
   "cell_type": "code",
   "execution_count": 39,
   "metadata": {},
   "outputs": [
    {
     "data": {
      "image/png": "[encoded data removed]",
      "text/plain": [
       "<Figure size 432x288 with 1 Axes>"
      ]
     },
     "metadata": {
      "needs_background": "light"
     },
     "output_type": "display_data"
    }
   ],
   "source": [
    "plt.scatter(substratos,transluc)\n",
    "plt.plot(substratos, ys, color='red')\n",
    "plt.xlabel('substrato (mM)')\n",
    "plt.ylabel('translucência (dB)')\n",
    "title = 'Experimento: translucência x substrato\\ncoef.corr: =%.3f p-value=%.2e'%(r_value, p_value)\n",
    "plt.title(title);  # este ponto e vírgula final retira o eco do matplotlib"
   ]
  },
  {
   "cell_type": "code",
   "execution_count": null,
   "metadata": {},
   "outputs": [],
   "source": []
  },
  {
   "cell_type": "markdown",
   "metadata": {},
   "source": [
    "### Vocês perceberam que as explicações são HTML puro\n",
    "### como se faz isto?\n",
    "### isto é Markdown\n",
    "### veremos na próxima aula\n",
    "### dê um clique duplo nos comentários e os comandos markdown aparecerão\n",
    "\n",
    "até a próxima aula ...  \n",
    "Flavio Lichtenstein"
   ]
  },
  {
   "cell_type": "code",
   "execution_count": null,
   "metadata": {},
   "outputs": [],
   "source": []
  }
 ],
 "metadata": {
  "kernelspec": {
   "display_name": "Python 3",
   "language": "python",
   "name": "python3"
  },
  "language_info": {
   "codemirror_mode": {
    "name": "ipython",
    "version": 3
   },
   "file_extension": ".py",
   "mimetype": "text/x-python",
   "name": "python",
   "nbconvert_exporter": "python",
   "pygments_lexer": "ipython3",
   "version": "3.7.7"
  }
 },
 "nbformat": 4,
 "nbformat_minor": 4
}
