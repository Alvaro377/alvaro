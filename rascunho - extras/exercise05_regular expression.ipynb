{
 "cells": [
  {
   "cell_type": "markdown",
   "metadata": {},
   "source": [
    "## Regular expression\n",
    "\n",
    "### Python:\n",
    "  * Google: https://developers.google.com/edu/python/regular-expressions\n",
    "  * https://docs.python.org/3/howto/regex.html\n"
   ]
  },
  {
   "cell_type": "code",
   "execution_count": 1,
   "metadata": {},
   "outputs": [],
   "source": [
    "import re"
   ]
  },
  {
   "cell_type": "markdown",
   "metadata": {},
   "source": [
    "SYMBOL\tDESCRIPTION\n",
    ".\tdot matches any character except newline  \n",
    "\\w\tmatches any word character i.e letters, alphanumeric, digits and underscore ( _ )  \n",
    "\\W\tmatches non word characters  \n",
    "\\d\tmatches a single digit  \n",
    "\\D\tmatches a single character that is not a digit  \n",
    "\\s\tmatches any white-spaces character like \\n, \\t, spaces  \n",
    "\\S\tmatches single non white space character  \n",
    "[abc]\tmatches single character in the set i.e either match a, b or c  \n",
    "[^abc]\tmatch a single character other than a, b and c  \n",
    "[a-z]\tmatch a single character in the range a to z.  \n",
    "[a-zA-Z]\tmatch a single character in the range a-z or A-Z  \n",
    "[0-9]\tmatch a single character in the range 0-9  \n",
    "^\tmatch start at beginning of the string  \n",
    "$\tmatch start at end of the string  \n",
    "+\tmatches one or more of the preceding character (greedy match).  \n",
    "*\tmatches zero or more of the preceding character (greedy match).  "
   ]
  },
  {
   "cell_type": "code",
   "execution_count": 8,
   "metadata": {},
   "outputs": [
    {
     "name": "stdout",
     "output_type": "stream",
     "text": [
      "11 12\n",
      "11 12\n",
      "11 13\n"
     ]
    }
   ],
   "source": [
    "stri = \"aaaaa type 88 bbb\"\n",
    "\n",
    "# ret = re.search(pattern, stri)\n",
    "ret = re.search(r'\\d', stri)\n",
    "\n",
    "if ret != None:\n",
    "    print (ret.start(),  ret.end())\n",
    "\n",
    "    stri[(ret.start()+5): (ret.end())]\n",
    "else:\n",
    "    print(\"could not find.\")\n",
    "\n",
    "    \n",
    "#-- one or more digits\n",
    "ret = re.search(r'\\d{1}', stri)\n",
    "\n",
    "if ret != None:\n",
    "    print (ret.start(),  ret.end())\n",
    "\n",
    "    stri[(ret.start()+5): (ret.end())]\n",
    "else:\n",
    "    print(\"could not find.\")\n",
    "\n",
    "    \n",
    "#-- two or more digits\n",
    "ret = re.search(r'\\d{2}', stri)\n",
    "\n",
    "if ret != None:\n",
    "    print (ret.start(),  ret.end())\n",
    "\n",
    "    stri[(ret.start()+5): (ret.end())]\n",
    "else:\n",
    "    print(\"could not find.\")\n",
    "    "
   ]
  },
  {
   "cell_type": "code",
   "execution_count": 10,
   "metadata": {},
   "outputs": [
    {
     "name": "stdout",
     "output_type": "stream",
     "text": [
      "6 14\n",
      "890\n",
      "type 890\n"
     ]
    }
   ],
   "source": [
    "#-- two or more digits\n",
    "stri = \"aaaaa type 890 bbb\"\n",
    "\n",
    "# ret = re.search(pattern, stri)\n",
    "ret = re.search(r'type \\d\\d+', stri)\n",
    "\n",
    "if ret != None:\n",
    "    print (ret.start(),  ret.end())\n",
    "    print( stri[(ret.start()+5): (ret.end())] )\n",
    "    print(ret.group(0))\n",
    "    \n",
    "else:\n",
    "    print(\"could not find.\")"
   ]
  },
  {
   "cell_type": "markdown",
   "metadata": {},
   "source": [
    "### One letter two digits\n",
    "\n",
    "[a-zA-Z]\\d{2}"
   ]
  },
  {
   "cell_type": "code",
   "execution_count": 12,
   "metadata": {},
   "outputs": [
    {
     "name": "stdout",
     "output_type": "stream",
     "text": [
      "6 14\n",
      "892\n",
      "type 892\n"
     ]
    }
   ],
   "source": [
    "#-- type + space + one or more digits\n",
    "stri = \"aaaaa type 892 bbb\"\n",
    "\n",
    "# ret = re.search(pattern, stri)\n",
    "ret = re.search(r'type\\s\\d+', stri)\n",
    "\n",
    "if ret != None:\n",
    "    print (ret.start(),  ret.end())\n",
    "    print( stri[(ret.start()+5): (ret.end())] )\n",
    "    print(ret.group(0))\n",
    "    \n",
    "    \n",
    "    \n",
    "else:\n",
    "    print(\"could not find.\")"
   ]
  },
  {
   "cell_type": "markdown",
   "metadata": {},
   "source": [
    "### substitute"
   ]
  },
  {
   "cell_type": "code",
   "execution_count": 13,
   "metadata": {},
   "outputs": [
    {
     "data": {
      "text/plain": [
       "'buster'"
      ]
     },
     "execution_count": 13,
     "metadata": {},
     "output_type": "execute_result"
    }
   ],
   "source": [
    "re.sub('t', 's', 'butter', count=1)"
   ]
  },
  {
   "cell_type": "code",
   "execution_count": 14,
   "metadata": {},
   "outputs": [
    {
     "data": {
      "text/plain": [
       "'there goes'"
      ]
     },
     "execution_count": 14,
     "metadata": {},
     "output_type": "execute_result"
    }
   ],
   "source": [
    "re.sub('here', 'there', 'Here goes', flags=re.I)"
   ]
  },
  {
   "cell_type": "code",
   "execution_count": 15,
   "metadata": {},
   "outputs": [
    {
     "data": {
      "text/plain": [
       "'HERE goes'"
      ]
     },
     "execution_count": 15,
     "metadata": {},
     "output_type": "execute_result"
    }
   ],
   "source": [
    "re.sub('here', lambda m: m.group().upper(), 'Here goes', flags=re.I)"
   ]
  }
 ],
 "metadata": {
  "kernelspec": {
   "display_name": "Python 3",
   "language": "python",
   "name": "python3"
  },
  "language_info": {
   "codemirror_mode": {
    "name": "ipython",
    "version": 3
   },
   "file_extension": ".py",
   "mimetype": "text/x-python",
   "name": "python",
   "nbconvert_exporter": "python",
   "pygments_lexer": "ipython3",
   "version": "3.7.3"
  }
 },
 "nbformat": 4,
 "nbformat_minor": 2
}
