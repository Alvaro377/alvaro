{
 "cells": [
  {
   "cell_type": "code",
   "execution_count": 7,
   "metadata": {},
   "outputs": [],
   "source": [
    "import sys, os"
   ]
  },
  {
   "cell_type": "code",
   "execution_count": 3,
   "metadata": {},
   "outputs": [
    {
     "data": {
      "text/plain": [
       "['/media/flalix/5c1ba0b4-f897-451c-9068-ac5e57194590/flalix/udemy/ibutantan/hpv',\n",
       " '/media/flalix/5c1ba0b4-f897-451c-9068-ac5e57194590/flalix/anaconda3/envs/study/lib/python37.zip',\n",
       " '/media/flalix/5c1ba0b4-f897-451c-9068-ac5e57194590/flalix/anaconda3/envs/study/lib/python3.7',\n",
       " '/media/flalix/5c1ba0b4-f897-451c-9068-ac5e57194590/flalix/anaconda3/envs/study/lib/python3.7/lib-dynload',\n",
       " '',\n",
       " '/media/flalix/5c1ba0b4-f897-451c-9068-ac5e57194590/flalix/anaconda3/envs/study/lib/python3.7/site-packages',\n",
       " '/media/flalix/5c1ba0b4-f897-451c-9068-ac5e57194590/flalix/anaconda3/envs/study/lib/python3.7/site-packages/IPython/extensions',\n",
       " '/home/flalix/.ipython']"
      ]
     },
     "execution_count": 3,
     "metadata": {},
     "output_type": "execute_result"
    }
   ],
   "source": [
    "sys.path"
   ]
  },
  {
   "cell_type": "code",
   "execution_count": 4,
   "metadata": {},
   "outputs": [
    {
     "data": {
      "text/plain": [
       "(None,\n",
       " '/media/flalix/5c1ba0b4-f897-451c-9068-ac5e57194590/flalix/anaconda3/envs/study/lib/python3.7/site-packages/numpy',\n",
       " ('', '', 5))"
      ]
     },
     "execution_count": 4,
     "metadata": {},
     "output_type": "execute_result"
    }
   ],
   "source": [
    "import imp\n",
    "imp.find_module('numpy')"
   ]
  },
  {
   "cell_type": "code",
   "execution_count": 8,
   "metadata": {},
   "outputs": [
    {
     "data": {
      "text/plain": [
       "'/media/flalix/5c1ba0b4-f897-451c-9068-ac5e57194590/flalix/udemy/ibutantan/hpv'"
      ]
     },
     "execution_count": 8,
     "metadata": {},
     "output_type": "execute_result"
    }
   ],
   "source": [
    "home = os.getcwd()\n",
    "home"
   ]
  },
  {
   "cell_type": "code",
   "execution_count": 10,
   "metadata": {},
   "outputs": [],
   "source": [
    "from os.path import dirname\n",
    "\n",
    "src = os.path.join(home, \"epitopePredictCode\")\n",
    "sys.path.append(src)"
   ]
  },
  {
   "cell_type": "code",
   "execution_count": 11,
   "metadata": {},
   "outputs": [
    {
     "data": {
      "text/plain": [
       "['/media/flalix/5c1ba0b4-f897-451c-9068-ac5e57194590/flalix/udemy/ibutantan/hpv',\n",
       " '/media/flalix/5c1ba0b4-f897-451c-9068-ac5e57194590/flalix/anaconda3/envs/study/lib/python37.zip',\n",
       " '/media/flalix/5c1ba0b4-f897-451c-9068-ac5e57194590/flalix/anaconda3/envs/study/lib/python3.7',\n",
       " '/media/flalix/5c1ba0b4-f897-451c-9068-ac5e57194590/flalix/anaconda3/envs/study/lib/python3.7/lib-dynload',\n",
       " '',\n",
       " '/media/flalix/5c1ba0b4-f897-451c-9068-ac5e57194590/flalix/anaconda3/envs/study/lib/python3.7/site-packages',\n",
       " '/media/flalix/5c1ba0b4-f897-451c-9068-ac5e57194590/flalix/anaconda3/envs/study/lib/python3.7/site-packages/IPython/extensions',\n",
       " '/home/flalix/.ipython',\n",
       " '/media/flalix/5c1ba0b4-f897-451c-9068-ac5e57194590/flalix/udemy/ibutantan/hpv/epitopePredictCode']"
      ]
     },
     "execution_count": 11,
     "metadata": {},
     "output_type": "execute_result"
    }
   ],
   "source": [
    "sys.path"
   ]
  },
  {
   "cell_type": "markdown",
   "metadata": {},
   "source": [
    "### In a module\n",
    "\n",
    "sys.path.append(dirname(__file__))"
   ]
  },
  {
   "cell_type": "markdown",
   "metadata": {},
   "source": [
    "### Get subdirs"
   ]
  },
  {
   "cell_type": "code",
   "execution_count": 18,
   "metadata": {},
   "outputs": [
    {
     "data": {
      "text/plain": [
       "['mhci_netmhccons_percentile_data',\n",
       " 'mhci_netmhcpan_4_0_el_percentile_data',\n",
       " 'pickpocket_1_1_executable',\n",
       " 'iedbtools_utilities',\n",
       " 'netmhcpan_4_0_executable',\n",
       " 'mhci_ann_predictor_percentile_data',\n",
       " 'netmhccons_1_1_executable',\n",
       " 'mhci_netmhcpan_4_0_percentile_data',\n",
       " 'netmhcstabpan_1_0_executable',\n",
       " 'netmhc_4_0_executable',\n",
       " 'mhci_netmhcstabpan_predictor_percentile_data']"
      ]
     },
     "execution_count": 18,
     "metadata": {},
     "output_type": "execute_result"
    }
   ],
   "source": [
    "src = os.path.join(home, \"netMHCpanCode\")\n",
    "\n",
    "prjs  = [o for o in os.listdir(src) if os.path.isdir(os.path.join(src,o))]\n",
    "prjs"
   ]
  },
  {
   "cell_type": "code",
   "execution_count": 20,
   "metadata": {},
   "outputs": [],
   "source": [
    "for prj in prjs:\n",
    "    path = os.path.join(src, prj)\n",
    "    sys.path.append(path)"
   ]
  },
  {
   "cell_type": "code",
   "execution_count": 21,
   "metadata": {},
   "outputs": [
    {
     "data": {
      "text/plain": [
       "['/media/flalix/5c1ba0b4-f897-451c-9068-ac5e57194590/flalix/udemy/ibutantan/hpv',\n",
       " '/media/flalix/5c1ba0b4-f897-451c-9068-ac5e57194590/flalix/anaconda3/envs/study/lib/python37.zip',\n",
       " '/media/flalix/5c1ba0b4-f897-451c-9068-ac5e57194590/flalix/anaconda3/envs/study/lib/python3.7',\n",
       " '/media/flalix/5c1ba0b4-f897-451c-9068-ac5e57194590/flalix/anaconda3/envs/study/lib/python3.7/lib-dynload',\n",
       " '',\n",
       " '/media/flalix/5c1ba0b4-f897-451c-9068-ac5e57194590/flalix/anaconda3/envs/study/lib/python3.7/site-packages',\n",
       " '/media/flalix/5c1ba0b4-f897-451c-9068-ac5e57194590/flalix/anaconda3/envs/study/lib/python3.7/site-packages/IPython/extensions',\n",
       " '/home/flalix/.ipython',\n",
       " '/media/flalix/5c1ba0b4-f897-451c-9068-ac5e57194590/flalix/udemy/ibutantan/hpv/epitopePredictCode',\n",
       " '/media/flalix/5c1ba0b4-f897-451c-9068-ac5e57194590/flalix/udemy/ibutantan/hpv/netMHCpanCode/mhci_netmhccons_percentile_data',\n",
       " '/media/flalix/5c1ba0b4-f897-451c-9068-ac5e57194590/flalix/udemy/ibutantan/hpv/netMHCpanCode/mhci_netmhcpan_4_0_el_percentile_data',\n",
       " '/media/flalix/5c1ba0b4-f897-451c-9068-ac5e57194590/flalix/udemy/ibutantan/hpv/netMHCpanCode/pickpocket_1_1_executable',\n",
       " '/media/flalix/5c1ba0b4-f897-451c-9068-ac5e57194590/flalix/udemy/ibutantan/hpv/netMHCpanCode/iedbtools_utilities',\n",
       " '/media/flalix/5c1ba0b4-f897-451c-9068-ac5e57194590/flalix/udemy/ibutantan/hpv/netMHCpanCode/netmhcpan_4_0_executable',\n",
       " '/media/flalix/5c1ba0b4-f897-451c-9068-ac5e57194590/flalix/udemy/ibutantan/hpv/netMHCpanCode/mhci_ann_predictor_percentile_data',\n",
       " '/media/flalix/5c1ba0b4-f897-451c-9068-ac5e57194590/flalix/udemy/ibutantan/hpv/netMHCpanCode/netmhccons_1_1_executable',\n",
       " '/media/flalix/5c1ba0b4-f897-451c-9068-ac5e57194590/flalix/udemy/ibutantan/hpv/netMHCpanCode/mhci_netmhcpan_4_0_percentile_data',\n",
       " '/media/flalix/5c1ba0b4-f897-451c-9068-ac5e57194590/flalix/udemy/ibutantan/hpv/netMHCpanCode/netmhcstabpan_1_0_executable',\n",
       " '/media/flalix/5c1ba0b4-f897-451c-9068-ac5e57194590/flalix/udemy/ibutantan/hpv/netMHCpanCode/netmhc_4_0_executable',\n",
       " '/media/flalix/5c1ba0b4-f897-451c-9068-ac5e57194590/flalix/udemy/ibutantan/hpv/netMHCpanCode/mhci_netmhcstabpan_predictor_percentile_data']"
      ]
     },
     "execution_count": 21,
     "metadata": {},
     "output_type": "execute_result"
    }
   ],
   "source": [
    "sys.path"
   ]
  }
 ],
 "metadata": {
  "kernelspec": {
   "display_name": "Python 3",
   "language": "python",
   "name": "python3"
  },
  "language_info": {
   "codemirror_mode": {
    "name": "ipython",
    "version": 3
   },
   "file_extension": ".py",
   "mimetype": "text/x-python",
   "name": "python",
   "nbconvert_exporter": "python",
   "pygments_lexer": "ipython3",
   "version": "3.6.9"
  }
 },
 "nbformat": 4,
 "nbformat_minor": 2
}
