{
 "cells": [
  {
   "cell_type": "code",
   "execution_count": 84,
   "metadata": {},
   "outputs": [
    {
     "name": "stdout",
     "output_type": "stream",
     "text": [
      "0 A 0.36363636363636365\n",
      "0 C 0.09090909090909091\n",
      "0 - 0.36363636363636365\n",
      "0 G 0.18181818181818182\n",
      "1 C 0.6363636363636364\n",
      "1 - 0.36363636363636365\n",
      "2 G 0.8181818181818182\n",
      "2 A 0.18181818181818182\n",
      "3 T 1.0\n",
      "\n",
      "0 A 0.5714285714285714\n",
      "0 C 0.14285714285714285\n",
      "0 G 0.2857142857142857\n",
      "n    2 2.2857142857142856 0.5714285714285714 4\n",
      "n    0 0.14285714285714285 0.14285714285714285 1\n",
      "n    1 0.5714285714285714 0.2857142857142857 2\n",
      "lets 3 ntrace 4 mat ['A', 'C', 'G']\n",
      "[0.5714285714285714, 0.14285714285714285, 0.2857142857142857]\n",
      "[4, 1, 2]\n",
      "[2, 0, 1]\n",
      "['A', 'A', 'G', 'A']\n",
      "----------------------------\n",
      "\n",
      "[['A' 'C' 'G' 'T']\n",
      " ['C' 'C' 'G' 'T']\n",
      " ['A' 'C' 'G' 'T']\n",
      " ['A' 'C' 'A' 'T']\n",
      " ['A' 'C' 'G' 'T']\n",
      " ['G' 'C' 'G' 'T']\n",
      " ['A' 'C' 'G' 'T']\n",
      " ['G' 'C' 'A' 'T']\n",
      " ['G' 'C' 'G' 'T']\n",
      " ['A' 'C' 'G' 'T']\n",
      " ['A' 'C' 'G' 'T']]\n"
     ]
    }
   ],
   "source": [
    "# def fulfilGaps(self, seqs):\n",
    "import numpy as np\n",
    "\n",
    "seqs = np.array([ [\"A\",\"C\",\"G\",\"T\"], [\"C\",\"C\",\"G\",\"T\"], [\"-\",\"-\",\"G\",\"T\"], [\"A\",\"C\",\"A\",\"T\"],\n",
    "                  [\"-\",\"-\",\"G\",\"T\"], [\"-\",\"-\",\"G\",\"T\"], [\"-\",\"-\",\"G\",\"T\"], \n",
    "                  [\"G\",\"C\",\"A\",\"T\"], [\"G\",\"C\",\"G\",\"T\"], [\"A\",\"C\",\"G\",\"T\"], [\"A\",\"C\",\"G\",\"T\"]])\n",
    "numOfLetters=1\n",
    "ncol = seqs.shape[1]\n",
    "nrow = seqs.shape[0]\n",
    "maxL = ncol-numOfLetters+1\n",
    "\n",
    "dicPiList = []\n",
    "dicLeList = []\n",
    "\n",
    "for j in range(maxL):\n",
    "    dicPi = {}; dicLe = {}\n",
    "\n",
    "    for row in range(nrow):\n",
    "        letters = \"\".join(seqs[row,j:(j+numOfLetters)])\n",
    "        try:\n",
    "            dicPi[letters] += 1\n",
    "            dicLe[letters] += 1\n",
    "        except:\n",
    "            dicPi[letters] = 1\n",
    "            dicLe[letters] = 1\n",
    "\n",
    "    for key in dicPi.keys():\n",
    "        dicPi[key] /= nrow\n",
    "        print(j, key, dicPi[key])\n",
    "        \n",
    "    dicPiList.append(dicPi)\n",
    "    dicLeList.append(dicLe)\n",
    "\n",
    "print(\"\")\n",
    "for j in range(maxL):\n",
    "    dicPi = dicPiList[j]\n",
    "    dicLe = dicLeList[j]\n",
    "    \n",
    "    if len(dicPi.keys()) > 1:\n",
    "        if \"-\" in dicPi.keys():\n",
    "            if len(dicPi.keys()) == 2:\n",
    "                mat = list(dicPi.keys())\n",
    "                mat = list(filter(lambda x : x != '-', mat))\n",
    "                for row in range(nrow):\n",
    "                    if \"\".join(seqs[row,j:(j+numOfLetters)]) == \"-\"*numOfLetters:\n",
    "                        seqs[row,j:(j+numOfLetters)] = mat[0]\n",
    "            else:\n",
    "                ntrace = dicLe['-']\n",
    "                matRep = [ntrace]\n",
    "                \n",
    "                del dicPi[\"-\"]\n",
    "                del dicLe[\"-\"]\n",
    "                total = sum(dicPi.values())\n",
    "                for key in dicPi.keys():\n",
    "                    dicPi[key] /= total\n",
    "                    # dicLe[key] /= total\n",
    "                    print(j, key, dicPi[key])\n",
    "                \n",
    "                \n",
    "                mat = list(dicPi.keys())\n",
    "                mat = list(filter(lambda x : x != '-', mat))\n",
    "                \n",
    "                pis=[];vals=[]; reps=[]; lets=[]\n",
    "                for key in dicPi.keys():\n",
    "                    pis.append(dicPi[key])\n",
    "                    vals.append(dicLe[key])\n",
    "                    \n",
    "                    n = round(dicPi[key] * dicLe[key])\n",
    "                    print(\"n   \", n, dicPi[key] * dicLe[key], dicPi[key], dicLe[key])\n",
    "                    reps.append(n)\n",
    "                    lets += n*[key]\n",
    "                \n",
    "                print(\"lets\", len(lets), \"ntrace\", ntrace, \"mat\", mat)\n",
    "                if len(lets) < ntrace:\n",
    "                    #reps[0] += 1\n",
    "                    lets.append(lets[0])\n",
    "                    \n",
    "                print(pis)\n",
    "                print(vals)\n",
    "                print(reps)\n",
    "                print(lets)\n",
    "                print(\"----------------------------\")\n",
    "                print(\"\")\n",
    "                \n",
    "                count = 0\n",
    "                for row in range(nrow):\n",
    "                    if \"\".join(seqs[row,j:(j+numOfLetters)]) == \"-\"*numOfLetters:\n",
    "                        seqs[row,j:(j+numOfLetters)] = lets[count]\n",
    "                        count += 1\n",
    "        \n",
    "\n",
    "print(seqs)"
   ]
  },
  {
   "cell_type": "code",
   "execution_count": 21,
   "metadata": {},
   "outputs": [
    {
     "data": {
      "text/plain": [
       "['bala@bala.com']"
      ]
     },
     "execution_count": 21,
     "metadata": {},
     "output_type": "execute_result"
    }
   ],
   "source": [
    "x = ['ala@ala.com', 'bala@bala.com']\n",
    "x.remove('ala@ala.com')\n",
    "x"
   ]
  },
  {
   "cell_type": "code",
   "execution_count": 26,
   "metadata": {},
   "outputs": [
    {
     "name": "stdout",
     "output_type": "stream",
     "text": [
      "['A']\n"
     ]
    }
   ],
   "source": [
    "mat = ['-', 'A']\n",
    "mat = list(filter(lambda x : x != '-', mat))\n",
    "print(mat)"
   ]
  },
  {
   "cell_type": "code",
   "execution_count": null,
   "metadata": {},
   "outputs": [],
   "source": []
  },
  {
   "cell_type": "code",
   "execution_count": null,
   "metadata": {},
   "outputs": [],
   "source": [
    "def fulfill2(seqs2, numOfLetters=1):\n",
    "    seqs = copy.deepcopy(seqs2)\n",
    "    ncol = seqs.shape[1]\n",
    "    nrow = seqs.shape[0]\n",
    "    maxL = ncol-numOfLetters+1\n",
    "\n",
    "    dicPiList = []\n",
    "    dicLeList = []\n",
    "\n",
    "    for j in range(maxL):\n",
    "        dicPi = {}; dicLe = {}\n",
    "\n",
    "        for row in range(nrow):\n",
    "            letters = \"\".join(seqs[row,j:(j+numOfLetters)])\n",
    "            try:\n",
    "                dicPi[letters] += 1\n",
    "                dicLe[letters] += 1\n",
    "            except:\n",
    "                dicPi[letters] = 1\n",
    "                dicLe[letters] = 1\n",
    "\n",
    "        for key in dicPi.keys():\n",
    "            dicPi[key] /= nrow\n",
    "            # print(j, key, dicPi[key])\n",
    "\n",
    "        dicPiList.append(dicPi)\n",
    "        dicLeList.append(dicLe)\n",
    "\n",
    "\n",
    "    for j in range(maxL):\n",
    "        dicPi = dicPiList[j]\n",
    "        dicLe = dicLeList[j]\n",
    "\n",
    "        if len(dicPi.keys()) > 1:\n",
    "            if \"-\" in dicPi.keys():\n",
    "                if len(dicPi.keys()) == 2:\n",
    "                    print(\"in2 \", j)\n",
    "                    mat = list(dicPi.keys())\n",
    "                    mat = list(filter(lambda x : x != '-', mat))\n",
    "                    for row in range(nrow):\n",
    "                        if \"\".join(seqs[row,j:(j+numOfLetters)]) == \"-\"*numOfLetters:\n",
    "                            seqs[row,j:(j+numOfLetters)] = mat[0]\n",
    "                else:\n",
    "                    print(\"inMany \", j)\n",
    "                    ntrace = dicLe['-']\n",
    "                    matRep = [ntrace]\n",
    "\n",
    "                    del dicPi[\"-\"]\n",
    "                    del dicLe[\"-\"]\n",
    "                    total = sum(dicPi.values())\n",
    "                    for key in dicPi.keys():\n",
    "                        dicPi[key] /= total\n",
    "                        # dicLe[key] /= total\n",
    "                        print(j, key, dicPi[key])\n",
    "\n",
    "\n",
    "                    mat = list(dicPi.keys())\n",
    "                    mat = list(filter(lambda x : x != '-', mat))\n",
    "\n",
    "                    pis=[];vals=[]; reps=[]; lets=[]\n",
    "                    for key in dicPi.keys():\n",
    "                        pis.append(dicPi[key])\n",
    "                        vals.append(dicLe[key])\n",
    "\n",
    "                        n = round(dicPi[key] * dicLe[key])\n",
    "                        # print(\"n   \", n, dicPi[key] * dicLe[key], dicPi[key], dicLe[key])\n",
    "                        reps.append(n)\n",
    "                        lets += n*[key]\n",
    "\n",
    "                    # print(\"lets\", len(lets), \"ntrace\", ntrace, \"mat\", mat)\n",
    "                    if len(lets) < ntrace:\n",
    "                        #reps[0] += 1\n",
    "                        lets.append(lets[0])\n",
    "\n",
    "\n",
    "                    count = 0\n",
    "                    for row in range(nrow):\n",
    "                        if \"\".join(seqs[row,j:(j+numOfLetters)]) == \"-\"*numOfLetters:\n",
    "                            seqs[row,j:(j+numOfLetters)] = lets[count]\n",
    "                            count += 1\n",
    "\n",
    "    return seqs"
   ]
  },
  {
   "cell_type": "code",
   "execution_count": null,
   "metadata": {},
   "outputs": [],
   "source": [
    "[\"\".join(seqx) for seqx in seqs6[0:120,7:25]]\n",
    "\n",
    "seqsqq = fulfill2(seqs6[0:120,0:55], numOfLetters=1)\n",
    "[\"\".join(seqx) for seqx in seqsqq]"
   ]
  },
  {
   "cell_type": "code",
   "execution_count": null,
   "metadata": {},
   "outputs": [],
   "source": []
  },
  {
   "cell_type": "markdown",
   "metadata": {},
   "source": [
    "### Test"
   ]
  },
  {
   "cell_type": "code",
   "execution_count": null,
   "metadata": {},
   "outputs": [],
   "source": [
    "a = [1,2,3]\n",
    "b = [3,4,5]\n",
    "print(a+b)"
   ]
  },
  {
   "cell_type": "code",
   "execution_count": 85,
   "metadata": {},
   "outputs": [],
   "source": [
    "import numpy as np"
   ]
  },
  {
   "cell_type": "code",
   "execution_count": 86,
   "metadata": {},
   "outputs": [
    {
     "data": {
      "text/plain": [
       "array([[1, 1, 3],\n",
       "       [4, 0, 1],\n",
       "       [4, 3, 3],\n",
       "       [3, 0, 0],\n",
       "       [4, 1, 4],\n",
       "       [1, 1, 4],\n",
       "       [3, 3, 3],\n",
       "       [4, 2, 0],\n",
       "       [3, 1, 1],\n",
       "       [3, 1, 0]])"
      ]
     },
     "execution_count": 86,
     "metadata": {},
     "output_type": "execute_result"
    }
   ],
   "source": [
    "A = np.random.randint(5, size=(10,3))\n",
    "A"
   ]
  },
  {
   "cell_type": "code",
   "execution_count": 88,
   "metadata": {},
   "outputs": [
    {
     "data": {
      "text/plain": [
       "array([2, 0, 7, 6, 9])"
      ]
     },
     "execution_count": 88,
     "metadata": {},
     "output_type": "execute_result"
    }
   ],
   "source": [
    "np.random.choice(A.shape[0], 5, replace=False)"
   ]
  },
  {
   "cell_type": "code",
   "execution_count": 90,
   "metadata": {},
   "outputs": [
    {
     "data": {
      "text/plain": [
       "[0, 1, 2, 3, 4, 5, 6, 7, 8, 9]"
      ]
     },
     "execution_count": 90,
     "metadata": {},
     "output_type": "execute_result"
    }
   ],
   "source": [
    "list(range(10))"
   ]
  },
  {
   "cell_type": "code",
   "execution_count": 93,
   "metadata": {},
   "outputs": [
    {
     "name": "stdout",
     "output_type": "stream",
     "text": [
      "[0 2 4 6 8]\n"
     ]
    }
   ],
   "source": [
    "print(np.arange(0,10,2))"
   ]
  },
  {
   "cell_type": "code",
   "execution_count": null,
   "metadata": {},
   "outputs": [],
   "source": []
  },
  {
   "cell_type": "code",
   "execution_count": 95,
   "metadata": {},
   "outputs": [
    {
     "data": {
      "text/plain": [
       "array([[0., 0., 0.],\n",
       "       [0., 0., 0.]])"
      ]
     },
     "execution_count": 95,
     "metadata": {},
     "output_type": "execute_result"
    }
   ],
   "source": [
    "np.zeros((2,3))"
   ]
  },
  {
   "cell_type": "code",
   "execution_count": null,
   "metadata": {},
   "outputs": [],
   "source": []
  },
  {
   "cell_type": "code",
   "execution_count": null,
   "metadata": {},
   "outputs": [],
   "source": []
  }
 ],
 "metadata": {
  "kernelspec": {
   "display_name": "Python 3",
   "language": "python",
   "name": "python3"
  },
  "language_info": {
   "codemirror_mode": {
    "name": "ipython",
    "version": 3
   },
   "file_extension": ".py",
   "mimetype": "text/x-python",
   "name": "python",
   "nbconvert_exporter": "python",
   "pygments_lexer": "ipython3",
   "version": "3.7.3"
  }
 },
 "nbformat": 4,
 "nbformat_minor": 2
}
